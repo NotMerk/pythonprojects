{
 "cells": [
  {
   "cell_type": "code",
   "execution_count": 2,
   "metadata": {
    "collapsed": true,
    "ExecuteTime": {
     "end_time": "2023-05-16T04:36:10.560393Z",
     "start_time": "2023-05-16T04:36:10.280750300Z"
    }
   },
   "outputs": [
    {
     "data": {
      "text/plain": "14"
     },
     "execution_count": 2,
     "metadata": {},
     "output_type": "execute_result"
    }
   ],
   "source": [
    "import pandas as pd\n",
    "lists = pd.read_html(\"https://en.wikipedia.org/wiki/List_of_The_Big_Bang_Theory_episodes\")\n",
    "len(lists)"
   ]
  },
  {
   "cell_type": "code",
   "execution_count": 3,
   "outputs": [
    {
     "data": {
      "text/plain": "    No. overall  No. in season   \n0             1              1  \\\n1             2              2   \n2             3              3   \n3             4              4   \n4             5              5   \n5             6              6   \n6             7              7   \n7             8              8   \n8             9              9   \n9            10             10   \n10           11             11   \n11           12             12   \n12           13             13   \n13           14             14   \n14           15             15   \n15           16             16   \n16           17             17   \n\n                                                Title       Directed by   \n0                                             \"Pilot\"     James Burrows  \\\n1                           \"The Big Bran Hypothesis\"   Mark Cendrowski   \n2                         \"The Fuzzy Boots Corollary\"   Mark Cendrowski   \n3                          \"The Luminous Fish Effect\"   Mark Cendrowski   \n4                           \"The Hamburger Postulate\"  Andrew D. Weyman   \n5                         \"The Middle-earth Paradigm\"   Mark Cendrowski   \n6                              \"The Dumpling Paradox\"   Mark Cendrowski   \n7                        \"The Grasshopper Experiment\"          Ted Wass   \n8                \"The Cooper-Hofstadter Polarization\"       Joel Murray   \n9                              \"The Loobenfeld Decay\"   Mark Cendrowski   \n10                       \"The Pancake Batter Anomaly\"   Mark Cendrowski   \n11                            \"The Jerusalem Duality\"   Mark Cendrowski   \n12                           \"The Bat Jar Conjecture\"   Mark Cendrowski   \n13                        \"The Nerdvana Annihilation\"   Mark Cendrowski   \n14  \"The Shiksa Indeterminacy\"[28] \"The Pork Chop ...   Mark Cendrowski   \n15                              \"The Peanut Reaction\"   Mark Cendrowski   \n16                             \"The Tangerine Factor\"   Mark Cendrowski   \n\n                                           Written by   Original air date   \n0                            Chuck Lorre & Bill Prady  September 24, 2007  \\\n1   Story by : Chuck Lorre & Bill Prady Teleplay b...     October 1, 2007   \n2   Story by : Chuck Lorre Teleplay by : Bill Prad...     October 8, 2007   \n3   Story by : Chuck Lorre & Bill Prady Teleplay b...    October 15, 2007   \n4   Story by : Jennifer Glickman Teleplay by : Dav...    October 22, 2007   \n5   Story by : Dave Goetsch Teleplay by : David Li...    October 29, 2007   \n6   Story by : Chuck Lorre & Bill Prady Teleplay b...    November 5, 2007   \n7   Story by : Dave Goetsch & Steven Molaro Telepl...   November 12, 2007   \n8   Story by : Bill Prady & Stephen Engel Teleplay...      March 17, 2008   \n9   Story by : Chuck Lorre Teleplay by : Bill Prad...      March 24, 2008   \n10  Story by : Chuck Lorre & Lee Aronsohn Teleplay...      March 31, 2008   \n11  Story by : Jennifer Glickman & Stephen Engel T...      April 14, 2008   \n12  Story by : Stephen Engel & Jennifer Glickman T...      April 21, 2008   \n13  Story by : Bill Prady Teleplay by : Stephen En...      April 28, 2008   \n14  Story by : Chuck Lorre Teleplay by : Lee Arons...         May 5, 2008   \n15  Story by : Bill Prady & Lee Aronsohn Teleplay ...        May 12, 2008   \n16  Story by : Chuck Lorre & Bill Prady Teleplay b...        May 19, 2008   \n\n   Prod. code U.S. viewers (millions)  \n0      276023                9.52[14]  \n1      3T6601                8.58[15]  \n2      3T6602                8.36[16]  \n3      3T6603                8.15[17]  \n4      3T6604                8.81[18]  \n5      3T6605                8.92[19]  \n6      3T6606                9.68[20]  \n7      3T6607                9.32[21]  \n8      3T6608                9.11[22]  \n9      3T6609                8.63[23]  \n10     3T6610                8.68[24]  \n11     3T6611                7.69[25]  \n12     3T6612                7.51[26]  \n13     3T6613                8.07[27]  \n14     3T6614                7.38[30]  \n15     3T6615                7.79[31]  \n16     3T6616                7.34[32]  ",
      "text/html": "<div>\n<style scoped>\n    .dataframe tbody tr th:only-of-type {\n        vertical-align: middle;\n    }\n\n    .dataframe tbody tr th {\n        vertical-align: top;\n    }\n\n    .dataframe thead th {\n        text-align: right;\n    }\n</style>\n<table border=\"1\" class=\"dataframe\">\n  <thead>\n    <tr style=\"text-align: right;\">\n      <th></th>\n      <th>No. overall</th>\n      <th>No. in season</th>\n      <th>Title</th>\n      <th>Directed by</th>\n      <th>Written by</th>\n      <th>Original air date</th>\n      <th>Prod. code</th>\n      <th>U.S. viewers (millions)</th>\n    </tr>\n  </thead>\n  <tbody>\n    <tr>\n      <th>0</th>\n      <td>1</td>\n      <td>1</td>\n      <td>\"Pilot\"</td>\n      <td>James Burrows</td>\n      <td>Chuck Lorre &amp; Bill Prady</td>\n      <td>September 24, 2007</td>\n      <td>276023</td>\n      <td>9.52[14]</td>\n    </tr>\n    <tr>\n      <th>1</th>\n      <td>2</td>\n      <td>2</td>\n      <td>\"The Big Bran Hypothesis\"</td>\n      <td>Mark Cendrowski</td>\n      <td>Story by : Chuck Lorre &amp; Bill Prady Teleplay b...</td>\n      <td>October 1, 2007</td>\n      <td>3T6601</td>\n      <td>8.58[15]</td>\n    </tr>\n    <tr>\n      <th>2</th>\n      <td>3</td>\n      <td>3</td>\n      <td>\"The Fuzzy Boots Corollary\"</td>\n      <td>Mark Cendrowski</td>\n      <td>Story by : Chuck Lorre Teleplay by : Bill Prad...</td>\n      <td>October 8, 2007</td>\n      <td>3T6602</td>\n      <td>8.36[16]</td>\n    </tr>\n    <tr>\n      <th>3</th>\n      <td>4</td>\n      <td>4</td>\n      <td>\"The Luminous Fish Effect\"</td>\n      <td>Mark Cendrowski</td>\n      <td>Story by : Chuck Lorre &amp; Bill Prady Teleplay b...</td>\n      <td>October 15, 2007</td>\n      <td>3T6603</td>\n      <td>8.15[17]</td>\n    </tr>\n    <tr>\n      <th>4</th>\n      <td>5</td>\n      <td>5</td>\n      <td>\"The Hamburger Postulate\"</td>\n      <td>Andrew D. Weyman</td>\n      <td>Story by : Jennifer Glickman Teleplay by : Dav...</td>\n      <td>October 22, 2007</td>\n      <td>3T6604</td>\n      <td>8.81[18]</td>\n    </tr>\n    <tr>\n      <th>5</th>\n      <td>6</td>\n      <td>6</td>\n      <td>\"The Middle-earth Paradigm\"</td>\n      <td>Mark Cendrowski</td>\n      <td>Story by : Dave Goetsch Teleplay by : David Li...</td>\n      <td>October 29, 2007</td>\n      <td>3T6605</td>\n      <td>8.92[19]</td>\n    </tr>\n    <tr>\n      <th>6</th>\n      <td>7</td>\n      <td>7</td>\n      <td>\"The Dumpling Paradox\"</td>\n      <td>Mark Cendrowski</td>\n      <td>Story by : Chuck Lorre &amp; Bill Prady Teleplay b...</td>\n      <td>November 5, 2007</td>\n      <td>3T6606</td>\n      <td>9.68[20]</td>\n    </tr>\n    <tr>\n      <th>7</th>\n      <td>8</td>\n      <td>8</td>\n      <td>\"The Grasshopper Experiment\"</td>\n      <td>Ted Wass</td>\n      <td>Story by : Dave Goetsch &amp; Steven Molaro Telepl...</td>\n      <td>November 12, 2007</td>\n      <td>3T6607</td>\n      <td>9.32[21]</td>\n    </tr>\n    <tr>\n      <th>8</th>\n      <td>9</td>\n      <td>9</td>\n      <td>\"The Cooper-Hofstadter Polarization\"</td>\n      <td>Joel Murray</td>\n      <td>Story by : Bill Prady &amp; Stephen Engel Teleplay...</td>\n      <td>March 17, 2008</td>\n      <td>3T6608</td>\n      <td>9.11[22]</td>\n    </tr>\n    <tr>\n      <th>9</th>\n      <td>10</td>\n      <td>10</td>\n      <td>\"The Loobenfeld Decay\"</td>\n      <td>Mark Cendrowski</td>\n      <td>Story by : Chuck Lorre Teleplay by : Bill Prad...</td>\n      <td>March 24, 2008</td>\n      <td>3T6609</td>\n      <td>8.63[23]</td>\n    </tr>\n    <tr>\n      <th>10</th>\n      <td>11</td>\n      <td>11</td>\n      <td>\"The Pancake Batter Anomaly\"</td>\n      <td>Mark Cendrowski</td>\n      <td>Story by : Chuck Lorre &amp; Lee Aronsohn Teleplay...</td>\n      <td>March 31, 2008</td>\n      <td>3T6610</td>\n      <td>8.68[24]</td>\n    </tr>\n    <tr>\n      <th>11</th>\n      <td>12</td>\n      <td>12</td>\n      <td>\"The Jerusalem Duality\"</td>\n      <td>Mark Cendrowski</td>\n      <td>Story by : Jennifer Glickman &amp; Stephen Engel T...</td>\n      <td>April 14, 2008</td>\n      <td>3T6611</td>\n      <td>7.69[25]</td>\n    </tr>\n    <tr>\n      <th>12</th>\n      <td>13</td>\n      <td>13</td>\n      <td>\"The Bat Jar Conjecture\"</td>\n      <td>Mark Cendrowski</td>\n      <td>Story by : Stephen Engel &amp; Jennifer Glickman T...</td>\n      <td>April 21, 2008</td>\n      <td>3T6612</td>\n      <td>7.51[26]</td>\n    </tr>\n    <tr>\n      <th>13</th>\n      <td>14</td>\n      <td>14</td>\n      <td>\"The Nerdvana Annihilation\"</td>\n      <td>Mark Cendrowski</td>\n      <td>Story by : Bill Prady Teleplay by : Stephen En...</td>\n      <td>April 28, 2008</td>\n      <td>3T6613</td>\n      <td>8.07[27]</td>\n    </tr>\n    <tr>\n      <th>14</th>\n      <td>15</td>\n      <td>15</td>\n      <td>\"The Shiksa Indeterminacy\"[28] \"The Pork Chop ...</td>\n      <td>Mark Cendrowski</td>\n      <td>Story by : Chuck Lorre Teleplay by : Lee Arons...</td>\n      <td>May 5, 2008</td>\n      <td>3T6614</td>\n      <td>7.38[30]</td>\n    </tr>\n    <tr>\n      <th>15</th>\n      <td>16</td>\n      <td>16</td>\n      <td>\"The Peanut Reaction\"</td>\n      <td>Mark Cendrowski</td>\n      <td>Story by : Bill Prady &amp; Lee Aronsohn Teleplay ...</td>\n      <td>May 12, 2008</td>\n      <td>3T6615</td>\n      <td>7.79[31]</td>\n    </tr>\n    <tr>\n      <th>16</th>\n      <td>17</td>\n      <td>17</td>\n      <td>\"The Tangerine Factor\"</td>\n      <td>Mark Cendrowski</td>\n      <td>Story by : Chuck Lorre &amp; Bill Prady Teleplay b...</td>\n      <td>May 19, 2008</td>\n      <td>3T6616</td>\n      <td>7.34[32]</td>\n    </tr>\n  </tbody>\n</table>\n</div>"
     },
     "execution_count": 3,
     "metadata": {},
     "output_type": "execute_result"
    }
   ],
   "source": [
    "lists[1]"
   ],
   "metadata": {
    "collapsed": false,
    "ExecuteTime": {
     "end_time": "2023-05-16T04:36:10.605580600Z",
     "start_time": "2023-05-16T04:36:10.562387400Z"
    }
   }
  }
 ],
 "metadata": {
  "kernelspec": {
   "display_name": "Python 3",
   "language": "python",
   "name": "python3"
  },
  "language_info": {
   "codemirror_mode": {
    "name": "ipython",
    "version": 2
   },
   "file_extension": ".py",
   "mimetype": "text/x-python",
   "name": "python",
   "nbconvert_exporter": "python",
   "pygments_lexer": "ipython2",
   "version": "2.7.6"
  }
 },
 "nbformat": 4,
 "nbformat_minor": 0
}
